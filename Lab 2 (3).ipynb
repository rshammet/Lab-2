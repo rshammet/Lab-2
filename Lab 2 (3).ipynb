{
 "cells": [
  {
   "cell_type": "markdown",
   "metadata": {},
   "source": [
    "goal: import sequences, analyze them, and plot the results\n",
    "**terminal commands** \n",
    "    1. muscle -in seqs.fa -out seqs.aligned.fa\n",
    "what this line of code did was take  seqs.fa file, which from our knowledge was a bunch of random sequences of varried length, it then outputtied another fasta file. However, the difference is that in the outputted file the sequences are now the same length and were alligned to one another in hopes to find a commonality.\n",
    "    2. fasttree -nt < seqs.alligned.fa > tree.nwk\n",
    "what this line of code did was take the newly alligned fasta file and combine all of the sequences that share a common ancestry, it then exported it into a newick file\n"
   ]
  },
  {
   "cell_type": "code",
   "execution_count": 218,
   "metadata": {},
   "outputs": [
    {
     "name": "stdout",
     "output_type": "stream",
     "text": [
      " , rh.61\n",
      " |\n",
      " |_ rh.58\n",
      " |\n",
      " |                               , pi.2\n",
      " |           ____________________|\n",
      " |          |                    , pi.3\n",
      " |          |                    |\n",
      " |          |                    | pi.1\n",
      " |          |\n",
      " |          |           , rh.10\n",
      " |        __|          _|\n",
      " |       |  |         | , bb.1\n",
      " |       |  |         | |\n",
      " |       |  |  _______| | bb.2\n",
      " |       |  | |       |\n",
      " |       |  | |       | _ hu.17\n",
      " |       |  | |       ||\n",
      " |       |  |_|        | hu.6\n",
      " |       |    |\n",
      " |       |    |    _______ rh.2\n",
      " |       |    |   |\n",
      " |       |    |___|          __ rh.40\n",
      " |       |        |         |\n",
      " |       |        |_________|, hu.67\n",
      " |       |                  ||\n",
      " |       |                  |, hu.37\n",
      " |       |                   |\n",
      " |       |                   , hu.40\n",
      " |       |                   |\n",
      " |       |                   | hu.66\n",
      " |       |                   |\n",
      " |       |                   , hu.41\n",
      " |       |                   |\n",
      " |       |                   | rh.38\n",
      " |       |                   |\n",
      " |       |                   | hu.42\n",
      " |       |\n",
      " |_______|                                         , cy.3\n",
      " |       |                                         |\n",
      " |       |                          _______________, cy.6\n",
      " |       |                         |               |\n",
      " |       |                         |               | cy.4\n",
      " |       |                         |               |\n",
      " |       |                 ________|               , cy.5\n",
      " |       |                |        |               |\n",
      " |       |                |        |               | rh.13\n",
      " |       |                |        |\n",
      " |       |                |        |        , rh.35\n",
      " |       |             ___|        |________|\n",
      " |       |            |   |                 , rh.36\n",
      " |       |            |   |                 |\n",
      " |       |            |   |                 | rh.37\n",
      " |       |            |   |\n",
      " |       |            |   |         ______ cy.2\n",
      " |       |            |   |________|\n",
      " |       |            |            |     __ rh.54\n",
      " |       |    ________|            |____|\n",
      " |       |   |        |                 |      __ rh.55\n",
      " |       |   |        |                 |_____|\n",
      " |       |   |        |                       |, rh.48\n",
      " |       |   |        |                       ||\n",
      " |       |   |        |                        | rh.62\n",
      " |       |   |        |\n",
      " |       |   |        |                               __ hu.43\n",
      " |       |   |        |______________________________|\n",
      " |       |___|                                       |  , hu.48\n",
      " |           |                                       |__|\n",
      " |           |                                          |      , hu.44\n",
      " |           |                                          |______|\n",
      " |           |                                                 | hu.46\n",
      " |           |\n",
      " |           |                                                    _ hu.14\n",
      " |           |      _____________________________________________|\n",
      " |           |     |                                             |  , hu.31\n",
      " |           |_____|                                             |__|\n",
      " |                 |                                                | hu.32\n",
      " |                 |\n",
      " |                 |______________ rh.43\n",
      "_|\n",
      " | rh.64\n",
      " |\n",
      " , rh.57\n",
      " |\n",
      " | rh.51\n",
      " |\n",
      " | rh.49\n",
      " |\n",
      " | rh.53\n",
      " |\n",
      " | rh.50\n",
      " |\n",
      " , rh.52\n",
      " |\n",
      " | hu.39\n",
      "\n"
     ]
    }
   ],
   "source": [
    "#draw tree graph \n",
    "#adding _ascii makes the tree bigger \n",
    "from Bio import Phylo\n",
    "tree = Phylo.read('tree.nwk', 'newick')\n",
    "Phylo.draw_ascii(tree)"
   ]
  },
  {
   "cell_type": "code",
   "execution_count": 308,
   "metadata": {},
   "outputs": [],
   "source": [
    "from Bio import SeqIO\n",
    "from Bio import AlignIO\n",
    "dictionary= SeqIO.to_dict(SeqIO.parse(\"seqs.aligned.fa\", \"fasta\"))\n",
    "clusters= { 1 : [dictionary['hu.31'], dictionary['hu.32'], dictionary['hu.14'], \n",
    "               dictionary['hu.44'], dictionary['hu.46'], dictionary['hu.43'], dictionary['hu.48'], dictionary['rh.43']],\n",
    "          2: [dictionary['rh.64'], dictionary['rh.57'], dictionary['rh.51'], dictionary['rh.49'], \n",
    "              dictionary['rh.53'], dictionary['rh.50'] , dictionary['rh.52'] , dictionary['hu.39']],\n",
    "          3: [dictionary['cy.2'], dictionary['rh.54'], dictionary['rh.55'], dictionary['rh.48'], \n",
    "              dictionary['rh.62'], dictionary['cy.3'], dictionary['cy.6'], dictionary['cy.4'], dictionary['cy.5'], \n",
    "              dictionary['rh.13'], dictionary['rh.35'], dictionary['rh.36'], dictionary['rh.37']],\n",
    "          4: [dictionary['rh.10'], dictionary['bb.1'], dictionary['bb.2'], dictionary['hu.17'], dictionary['hu.6'],\n",
    "              dictionary['rh.2'], dictionary['rh.40'], dictionary['hu.67'], dictionary['hu.37'], dictionary['hu.40'], \n",
    "              dictionary['hu.66'], dictionary['hu.41'], dictionary['rh.38'], dictionary['hu.42']],\n",
    "          5: [dictionary['pi.1'], dictionary['pi.2'],dictionary['pi.3'],dictionary['rh.61'], dictionary['rh.58']] }\n"
   ]
  },
  {
   "cell_type": "code",
   "execution_count": 309,
   "metadata": {},
   "outputs": [],
   "source": [
    "from Bio.SeqUtils import GC\n",
    "\n",
    "\n",
    "GC_1= []\n",
    "for i in range(len(clusters[1][0].seq)):\n",
    "    sum = 0\n",
    "    for x in clusters[1]:\n",
    "        sum = sum + (GC(x.seq[i])/ 100)\n",
    "    avg = sum /len(clusters[1])\n",
    "    GC_1.append(avg)\n",
    "    \n",
    "GC_2= []\n",
    "for i in range(len(clusters[2][0].seq)):\n",
    "    sum = 0\n",
    "    for x in clusters[2]:\n",
    "        sum= sum + (GC(x.seq[i])/100)\n",
    "    avg = sum/len(clusters[2])\n",
    "    GC_2.append(avg)\n",
    "\n",
    "GC_3= []\n",
    "for i in range(len(clusters[3][0].seq)):\n",
    "    sum = 0\n",
    "    for x in clusters[3]:\n",
    "        sum= sum + (GC(x.seq[i])/100)\n",
    "    avg = sum/len(clusters[3])\n",
    "    GC_3.append(avg)\n",
    "    \n",
    "GC_4= []\n",
    "for i in range(len(clusters[4][0].seq)):\n",
    "    sum = 0\n",
    "    for x in clusters[4]:\n",
    "        sum= sum + (GC(x.seq[i])/100)\n",
    "    avg = sum/len(clusters[4])\n",
    "    GC_4.append(avg)\n",
    "    \n",
    "GC_5= []\n",
    "for i in range(len(clusters[5][0].seq)):\n",
    "    sum = 0\n",
    "    for x in clusters[5]:\n",
    "        sum= sum + (GC(x.seq[i])/100)\n",
    "    avg = sum/len(clusters[5])\n",
    "    GC_5.append(avg)\n"
   ]
  },
  {
   "cell_type": "code",
   "execution_count": 235,
   "metadata": {},
   "outputs": [],
   "source": [
    "import numpy as np\n",
    "\n",
    "GC_1a= np.array(GC_1)\n",
    "GC_2a= np.array(GC_2)\n",
    "GC_3a= np.array(GC_3)\n",
    "GC_4a= np.array(GC_4)\n",
    "GC_5a= np.array(GC_5)"
   ]
  },
  {
   "cell_type": "code",
   "execution_count": 236,
   "metadata": {},
   "outputs": [],
   "source": [
    "AT_1= 1- GC_1a\n",
    "AT_2=1- GC_2a\n",
    "AT_3= 1- GC_3a\n",
    "AT_4= 1- GC_4a\n",
    "AT_5= 1- GC_5a"
   ]
  },
  {
   "cell_type": "code",
   "execution_count": 240,
   "metadata": {},
   "outputs": [
    {
     "data": {
      "image/png": "[encoded data removed]",
      "text/plain": [
       "<Figure size 432x288 with 1 Axes>"
      ]
     },
     "metadata": {
      "needs_background": "light"
     },
     "output_type": "display_data"
    }
   ],
   "source": [
    "import matplotlib.pyplot as plt \n",
    "import numpy as np\n",
    "\n",
    "\n",
    "plt.bar(np.arange(len(clusters[1][0].seq)) ,GC_1)\n",
    "plt.bar(np.arange(len(clusters[1][0].seq)), AT_1, bottom= GC_1)\n",
    "plt.xlabel('% AT or % GC')\n",
    "plt.ylabel('Position in Sequence')\n",
    "plt.title('Cluster 1')\n",
    "plt.show()"
   ]
  },
  {
   "cell_type": "code",
   "execution_count": 242,
   "metadata": {},
   "outputs": [
    {
     "data": {
      "image/png": "[encoded data removed]",
      "text/plain": [
       "<Figure size 432x288 with 1 Axes>"
      ]
     },
     "metadata": {
      "needs_background": "light"
     },
     "output_type": "display_data"
    }
   ],
   "source": [
    "plt.bar(np.arange(len(clusters[1][0].seq)) ,GC_2)\n",
    "plt.bar(np.arange(len(clusters[1][0].seq)), AT_2, bottom= GC_2)\n",
    "plt.xlabel('% AT or % GC')\n",
    "plt.ylabel('Position in Sequence')\n",
    "plt.title('Cluster 2')\n",
    "plt.show()"
   ]
  },
  {
   "cell_type": "code",
   "execution_count": 243,
   "metadata": {},
   "outputs": [
    {
     "data": {
      "image/png": "[encoded data removed]",
      "text/plain": [
       "<Figure size 432x288 with 1 Axes>"
      ]
     },
     "metadata": {
      "needs_background": "light"
     },
     "output_type": "display_data"
    }
   ],
   "source": [
    "plt.bar(np.arange(len(clusters[1][0].seq)) ,GC_3)\n",
    "plt.bar(np.arange(len(clusters[1][0].seq)), AT_3, bottom= GC_3)\n",
    "plt.xlabel('% AT or % GC')\n",
    "plt.ylabel('Position in Sequence')\n",
    "plt.title('Cluster 3')\n",
    "plt.show()"
   ]
  },
  {
   "cell_type": "code",
   "execution_count": 244,
   "metadata": {},
   "outputs": [
    {
     "data": {
      "image/png": "[encoded data removed]",
      "text/plain": [
       "<Figure size 432x288 with 1 Axes>"
      ]
     },
     "metadata": {
      "needs_background": "light"
     },
     "output_type": "display_data"
    }
   ],
   "source": [
    "plt.bar(np.arange(len(clusters[1][0].seq)) ,GC_4)\n",
    "plt.bar(np.arange(len(clusters[1][0].seq)), AT_4, bottom= GC_4)\n",
    "plt.xlabel('% AT or % GC')\n",
    "plt.ylabel('Position in Sequence')\n",
    "plt.title('Cluster 4')\n",
    "plt.show()"
   ]
  },
  {
   "cell_type": "code",
   "execution_count": 245,
   "metadata": {},
   "outputs": [
    {
     "data": {
      "image/png": "[encoded data removed]",
      "text/plain": [
       "<Figure size 432x288 with 1 Axes>"
      ]
     },
     "metadata": {
      "needs_background": "light"
     },
     "output_type": "display_data"
    }
   ],
   "source": [
    "plt.bar(np.arange(len(clusters[1][0].seq)) ,GC_5)\n",
    "plt.bar(np.arange(len(clusters[1][0].seq)), AT_5, bottom= GC_5)\n",
    "plt.xlabel('% AT or % GC')\n",
    "plt.ylabel('Position in Sequence')\n",
    "plt.title('Cluster 5')\n",
    "plt.show()"
   ]
  },
  {
   "cell_type": "code",
   "execution_count": 269,
   "metadata": {},
   "outputs": [],
   "source": [
    "undictionary= SeqIO.to_dict(SeqIO.parse(\"seqs.fa\", \"fasta\"))\n",
    "unclusters= { 1: [undictionary['hu.31'], undictionary['hu.32'], undictionary['hu.14'], \n",
    "               undictionary['hu.44'], undictionary['hu.46'], undictionary['hu.43'], undictionary['hu.48'], undictionary['rh.43']],\n",
    "          2: [undictionary['rh.64'], undictionary['rh.57'], undictionary['rh.51'], undictionary['rh.49'], \n",
    "              undictionary['rh.53'], undictionary['rh.50'] , undictionary['rh.52'] , undictionary['hu.39']],\n",
    "          3: [undictionary['cy.2'], undictionary['rh.54'], undictionary['rh.55'], undictionary['rh.48'], \n",
    "              undictionary['rh.62'], undictionary['cy.3'], undictionary['cy.6'], undictionary['cy.4'], undictionary['cy.5'], \n",
    "              undictionary['rh.13'], undictionary['rh.35'], undictionary['rh.36'], undictionary['rh.37']],\n",
    "          4: [undictionary['rh.10'], undictionary['bb.1'], undictionary['bb.2'], undictionary['hu.17'], undictionary['hu.6'],\n",
    "              undictionary['rh.2'], undictionary['rh.40'], undictionary['hu.67'], undictionary['hu.37'], undictionary['hu.40'], \n",
    "              undictionary['hu.66'], undictionary['hu.41'], undictionary['rh.38'], undictionary['hu.42']],\n",
    "          5: [undictionary['pi.1'], undictionary['pi.2'],undictionary['pi.3'],undictionary['rh.61'], undictionary['rh.58']] }\n"
   ]
  },
  {
   "cell_type": "code",
   "execution_count": 291,
   "metadata": {},
   "outputs": [],
   "source": [
    "CL1= []\n",
    "\n",
    "for x in unclusters[1]:\n",
    "    CL1.append(len(x.seq))"
   ]
  },
  {
   "cell_type": "code",
   "execution_count": 292,
   "metadata": {},
   "outputs": [],
   "source": [
    "CL2= []\n",
    "\n",
    "for x in unclusters[2]:\n",
    "    CL2.append(len(x.seq))"
   ]
  },
  {
   "cell_type": "code",
   "execution_count": 293,
   "metadata": {},
   "outputs": [],
   "source": [
    "CL3= []\n",
    "\n",
    "for x in unclusters[3]:\n",
    "    CL3.append(len(x.seq))"
   ]
  },
  {
   "cell_type": "code",
   "execution_count": 294,
   "metadata": {},
   "outputs": [],
   "source": [
    "CL4= []\n",
    "\n",
    "for x in unclusters[4]:\n",
    "    CL4.append(len(x.seq))"
   ]
  },
  {
   "cell_type": "code",
   "execution_count": 295,
   "metadata": {},
   "outputs": [],
   "source": [
    "CL5= []\n",
    "\n",
    "for x in unclusters[5]:\n",
    "    CL5.append(len(x.seq))"
   ]
  },
  {
   "cell_type": "code",
   "execution_count": 300,
   "metadata": {},
   "outputs": [
    {
     "data": {
      "image/png": "[encoded data removed]",
      "text/plain": [
       "<Figure size 432x288 with 1 Axes>"
      ]
     },
     "metadata": {
      "needs_background": "light"
     },
     "output_type": "display_data"
    }
   ],
   "source": [
    "plt.boxplot([CL1, CL2, CL3, CL4, CL5], labels= ['Cluster 1', 'Cluster 2', 'Cluster 3', 'Cluster 4', 'Cluster 5'])\n",
    "plt.show()"
   ]
  }
 ],
 "metadata": {
  "kernelspec": {
   "display_name": "Python 3",
   "language": "python",
   "name": "python3"
  },
  "language_info": {
   "codemirror_mode": {
    "name": "ipython",
    "version": 3
   },
   "file_extension": ".py",
   "mimetype": "text/x-python",
   "name": "python",
   "nbconvert_exporter": "python",
   "pygments_lexer": "ipython3",
   "version": "3.7.3"
  }
 },
 "nbformat": 4,
 "nbformat_minor": 2
}
